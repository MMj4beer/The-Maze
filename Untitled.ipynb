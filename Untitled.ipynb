{
 "cells": [
  {
   "cell_type": "markdown",
   "id": "718b4640",
   "metadata": {},
   "source": [
    "## Implementing Libaray"
   ]
  },
  {
   "cell_type": "code",
   "execution_count": 24,
   "id": "549f9ba6",
   "metadata": {},
   "outputs": [],
   "source": [
    "import numpy as np\n",
    "import matplotlib.pyplot as plt\n",
    "import matplotlib.image as mpimg"
   ]
  },
  {
   "cell_type": "markdown",
   "id": "4fa5bc80",
   "metadata": {},
   "source": [
    "## This Is Our Maze"
   ]
  },
  {
   "cell_type": "markdown",
   "id": "cb3b9bf7",
   "metadata": {},
   "source": [
    "### The challange is to find the shotest path from E to D"
   ]
  },
  {
   "cell_type": "code",
   "execution_count": 25,
   "id": "83eff26c",
   "metadata": {},
   "outputs": [
    {
     "data": {
      "image/png": "[encoded data removed]",
      "text/plain": [
       "<Figure size 432x288 with 1 Axes>"
      ]
     },
     "metadata": {
      "needs_background": "light"
     },
     "output_type": "display_data"
    }
   ],
   "source": [
    "img = mpimg.imread('ccol.png')\n",
    "imgplot = plt.imshow(img)\n",
    "plt.show()"
   ]
  },
  {
   "cell_type": "markdown",
   "id": "6aa9c598",
   "metadata": {},
   "source": [
    "## Setting the parameters gamma and alpha for the Q-Learning"
   ]
  },
  {
   "cell_type": "code",
   "execution_count": 2,
   "id": "641d55d6",
   "metadata": {},
   "outputs": [],
   "source": [
    "gamma = 0.75\n",
    "alpha = 0.9"
   ]
  },
  {
   "cell_type": "markdown",
   "id": "1f78d7de",
   "metadata": {},
   "source": [
    "## BUILDING THE ENVIRONMENT and Dedining State"
   ]
  },
  {
   "cell_type": "code",
   "execution_count": 3,
   "id": "4259bd1b",
   "metadata": {},
   "outputs": [],
   "source": [
    "location_to_state = {\n",
    "    'A':0,\n",
    "    'B':1,\n",
    "    'C':2,\n",
    "    'D':3,\n",
    "    'E':4,\n",
    "    'F':5,\n",
    "    'G':6,\n",
    "    'H':7,\n",
    "    'I':8,\n",
    "    'J':9,\n",
    "    'K':10,\n",
    "    'L':11\n",
    "}"
   ]
  },
  {
   "cell_type": "markdown",
   "id": "f7d91ad0",
   "metadata": {},
   "source": [
    "## Defining the actions"
   ]
  },
  {
   "cell_type": "code",
   "execution_count": 7,
   "id": "2d8da7dd",
   "metadata": {},
   "outputs": [],
   "source": [
    "actions = [0,1,2,3,4,5,6,7,8,9,10,11]"
   ]
  },
  {
   "cell_type": "markdown",
   "id": "f7ca2d30",
   "metadata": {},
   "source": [
    "## Defining the rewards"
   ]
  },
  {
   "cell_type": "code",
   "execution_count": 34,
   "id": "dc0c2eda",
   "metadata": {},
   "outputs": [],
   "source": [
    "R = np.array([[0,1,0,0,0,0,0,0,0,0,0,0],\n",
    "            [1,0,1,0,0,1,0,0,0,0,0,0],\n",
    "            [0,1,0,0,0,0,1,0,0,0,0,0],\n",
    "            [0,0,0,1000,0,0,0,1,0,0,0,0],\n",
    "            [0,0,0,0,0,0,0,0,1,0,0,0],\n",
    "            [0,1,0,0,0,0,0,0,0,1,0,0],\n",
    "            [0,0,1,0,0,0,0,1,0,0,0,0],\n",
    "            [0,0,0,1,0,0,1,0,0,0,0,1],\n",
    "            [0,0,0,0,1,0,0,0,0,1,0,0],\n",
    "            [0,0,0,0,0,1,0,0,1,0,1,0],\n",
    "            [0,0,0,0,0,0,0,0,0,1,0,1],\n",
    "            [0,0,0,0,0,0,0,1,0,0,1,0]])"
   ]
  },
  {
   "cell_type": "markdown",
   "id": "07b63992",
   "metadata": {},
   "source": [
    "## Initializing the Q-values"
   ]
  },
  {
   "cell_type": "code",
   "execution_count": 35,
   "id": "d86e9dc6",
   "metadata": {},
   "outputs": [],
   "source": [
    "Q = np.array(np.zeros([12, 12]))"
   ]
  },
  {
   "cell_type": "markdown",
   "id": "4f6f8c88",
   "metadata": {},
   "source": [
    "## Implementing the Q-Learning process"
   ]
  },
  {
   "cell_type": "code",
   "execution_count": 47,
   "id": "cb235d0b",
   "metadata": {},
   "outputs": [],
   "source": [
    "for i in range(1000):\n",
    "    current_state = np.random.randint(0,12)\n",
    "    playable_actions = []\n",
    "    for j in range(12):\n",
    "        if R[current_state, j] > 0:\n",
    "            playable_actions.append(j)\n",
    "    next_state = np.random.choice(playable_actions)\n",
    "    TD = R[current_state, next_state] + gamma * Q[next_state,np.argmax(Q[next_state,])] - Q[current_state, next_state]\n",
    "    Q[current_state, next_state] = Q[current_state, next_state] +alpha * TD"
   ]
  },
  {
   "cell_type": "code",
   "execution_count": 48,
   "id": "2f583fec",
   "metadata": {},
   "outputs": [
    {
     "name": "stdout",
     "output_type": "stream",
     "text": [
      "Q-values:\n",
      "[[   0  952    0    0    0    0    0    0    0    0    0    0]\n",
      " [ 715    0 1268    0    0  715    0    0    0    0    0    0]\n",
      " [   0  952    0    0    0    0 1689    0    0    0    0    0]\n",
      " [   0    0    0 3999    0    0    0 2251    0    0    0    0]\n",
      " [   0    0    0    0    0    0    0    0  715    0    0    0]\n",
      " [   0  952    0    0    0    0    0    0    0  952    0    0]\n",
      " [   0    0 1268    0    0    0    0 2251    0    0    0    0]\n",
      " [   0    0    0 3000    0    0 1689    0    0    0    0 1689]\n",
      " [   0    0    0    0  537    0    0    0    0  952    0    0]\n",
      " [   0    0    0    0    0  715    0    0  715    0 1268    0]\n",
      " [   0    0    0    0    0    0    0    0    0  952    0 1689]\n",
      " [   0    0    0    0    0    0    0 2251    0    0 1268    0]]\n"
     ]
    }
   ],
   "source": [
    "print(\"Q-values:\")\n",
    "print(Q.astype(int))"
   ]
  },
  {
   "cell_type": "markdown",
   "id": "1c9612fc",
   "metadata": {},
   "source": [
    "## # Making a mapping from the states to the locations"
   ]
  },
  {
   "cell_type": "code",
   "execution_count": 38,
   "id": "80227719",
   "metadata": {},
   "outputs": [],
   "source": [
    "state_to_location = {state: location for location, state in location_to_state.items()}"
   ]
  },
  {
   "cell_type": "markdown",
   "id": "dc587843",
   "metadata": {},
   "source": [
    "## # Making the final function that will return the optimal route"
   ]
  },
  {
   "cell_type": "code",
   "execution_count": 45,
   "id": "f4dd4a28",
   "metadata": {},
   "outputs": [],
   "source": [
    "def route(starting_location, ending_location):\n",
    "    route = [starting_location]\n",
    "    next_location = starting_location\n",
    "    while (next_location != ending_location):\n",
    "        starting_state = location_to_state[starting_location]\n",
    "        next_state = np.argmax(Q[starting_state,])\n",
    "        next_location = state_to_location[next_state]\n",
    "        route.append(next_location)\n",
    "        starting_location = next_location\n",
    "    return route"
   ]
  },
  {
   "cell_type": "code",
   "execution_count": 46,
   "id": "f57e2962",
   "metadata": {},
   "outputs": [
    {
     "name": "stdout",
     "output_type": "stream",
     "text": [
      "Route:\n"
     ]
    },
    {
     "data": {
      "text/plain": [
       "['E', 'I', 'J', 'K', 'L', 'H', 'D']"
      ]
     },
     "execution_count": 46,
     "metadata": {},
     "output_type": "execute_result"
    }
   ],
   "source": [
    "print('Route:')\n",
    "route('E', 'D')"
   ]
  }
 ],
 "metadata": {
  "kernelspec": {
   "display_name": "Python 3",
   "language": "python",
   "name": "python3"
  },
  "language_info": {
   "codemirror_mode": {
    "name": "ipython",
    "version": 3
   },
   "file_extension": ".py",
   "mimetype": "text/x-python",
   "name": "python",
   "nbconvert_exporter": "python",
   "pygments_lexer": "ipython3",
   "version": "3.8.10"
  }
 },
 "nbformat": 4,
 "nbformat_minor": 5
}
